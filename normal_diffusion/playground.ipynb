{
 "cells": [
  {
   "cell_type": "code",
   "execution_count": 1,
   "metadata": {},
   "outputs": [
    {
     "name": "stdout",
     "output_type": "stream",
     "text": [
      "8\n",
      "SparseTensor(row=tensor([    0,     0,     0,  ..., 99999, 99999, 99999]),\n",
      "             col=tensor([52139, 56092, 58051,  ..., 51001, 82571, 99218]),\n",
      "             val=tensor([0.1673, 0.1674, 0.1656,  ..., 0.1664, 0.1682, 0.1650]),\n",
      "             size=(100000, 100000), nnz=600000, density=0.01%)\n",
      "Data(x=[100000, 3], pos=[100000, 3], test_idx=[5000], adj_t=[100000, 100000, nnz=600000])\n"
     ]
    }
   ],
   "source": [
    "from torch_geometric.datasets import PCPNetDataset\n",
    "from torch_geometric.transforms import ToSparseTensor, KNNGraph, Compose\n",
    "from normal_diffusion.data.transforms import DistanceToEdgeWeight\n",
    "import numpy as np\n",
    "\n",
    "# Choose the root directory where you want to save the dataset\n",
    "root = \"../data/PCPNetDataset\"\n",
    "\n",
    "# Download and load the training dataset\n",
    "dataset = PCPNetDataset(\n",
    "    root=root,\n",
    "    category=\"NoNoise\",\n",
    "    split=\"train\",\n",
    "    transform=Compose([KNNGraph(k=6), DistanceToEdgeWeight(), ToSparseTensor()]),\n",
    ")\n",
    "\n",
    "print(len(dataset))\n",
    "first_collection = dataset[0]\n",
    "first_collection.x = first_collection.x[:, :3]\n",
    "print(first_collection.adj_t)\n",
    "print(first_collection)"
   ]
  },
  {
   "cell_type": "code",
   "execution_count": 3,
   "metadata": {},
   "outputs": [
    {
     "name": "stdout",
     "output_type": "stream",
     "text": [
      "tensor([[ 4.0389, -2.4769, -2.7030],\n",
      "        [ 2.6813, -1.4492, -1.5012],\n",
      "        [ 3.7493, -2.2803, -2.5710],\n",
      "        ...,\n",
      "        [ 2.4581, -1.3523, -1.0705],\n",
      "        [ 2.4606, -1.7351, -0.8122],\n",
      "        [ 3.3111, -1.9130, -2.1515]], grad_fn=<AddBackward0>)\n"
     ]
    }
   ],
   "source": [
    "from normal_diffusion.models import GCNModel\n",
    "model = GCNModel()\n",
    "predicted_normals = model(graph_data=first_collection, t=1.0)\n",
    "print(predicted_normals)\n"
   ]
  },
  {
   "cell_type": "code",
   "execution_count": null,
   "metadata": {},
   "outputs": [],
   "source": []
  }
 ],
 "metadata": {
  "kernelspec": {
   "display_name": ".venv",
   "language": "python",
   "name": "python3"
  },
  "language_info": {
   "codemirror_mode": {
    "name": "ipython",
    "version": 3
   },
   "file_extension": ".py",
   "mimetype": "text/x-python",
   "name": "python",
   "nbconvert_exporter": "python",
   "pygments_lexer": "ipython3",
   "version": "3.11.10"
  }
 },
 "nbformat": 4,
 "nbformat_minor": 2
}
