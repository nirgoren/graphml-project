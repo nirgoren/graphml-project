{
 "cells": [
  {
   "cell_type": "code",
   "execution_count": 1,
   "metadata": {},
   "outputs": [
    {
     "name": "stdout",
     "output_type": "stream",
     "text": [
      "8\n",
      "torch.Size([100000, 3])\n",
      "SparseTensor(row=tensor([    0,     0,     0,  ..., 99999, 99999, 99999]),\n",
      "             col=tensor([52139, 56092, 58051,  ..., 51001, 82571, 99218]),\n",
      "             val=tensor([0.1673, 0.1674, 0.1656,  ..., 0.1664, 0.1682, 0.1650]),\n",
      "             size=(100000, 100000), nnz=600000, density=0.01%)\n",
      "Data(x=[100000, 3], pos=[100000, 3], test_idx=[5000], adj_t=[100000, 100000, nnz=600000])\n"
     ]
    }
   ],
   "source": [
    "from torch_geometric.datasets import PCPNetDataset\n",
    "from torch_geometric.transforms import ToSparseTensor, KNNGraph, Compose\n",
    "from normal_diffusion.data.transforms import DistanceToEdgeWeight, KeepNormals\n",
    "\n",
    "# Choose the root directory where you want to save the dataset\n",
    "root = \"../data/PCPNetDataset\"\n",
    "\n",
    "# Download and load the training dataset\n",
    "dataset = PCPNetDataset(\n",
    "    root=root,\n",
    "    category=\"NoNoise\",\n",
    "    split=\"train\",\n",
    "    transform=Compose([KNNGraph(k=6), DistanceToEdgeWeight(), ToSparseTensor(), KeepNormals()]),\n",
    ")\n",
    "\n",
    "print(len(dataset))\n",
    "first_collection = dataset[0]\n",
    "print(first_collection.x.shape)\n",
    "print(first_collection.adj_t)\n",
    "print(first_collection)"
   ]
  },
  {
   "cell_type": "code",
   "execution_count": 2,
   "metadata": {},
   "outputs": [
    {
     "name": "stdout",
     "output_type": "stream",
     "text": [
      "tensor([[ 0.9543,  4.7256,  0.4208],\n",
      "        [ 1.3620,  3.5609,  0.0548],\n",
      "        [ 0.5082,  4.5813,  0.4453],\n",
      "        ...,\n",
      "        [ 1.3655,  4.0132, -0.3092],\n",
      "        [ 1.3941,  4.7888, -0.8284],\n",
      "        [ 1.1458,  4.3285,  0.1455]], grad_fn=<AddBackward0>)\n"
     ]
    },
    {
     "name": "stderr",
     "output_type": "stream",
     "text": [
      "/Users/nirg/courses/graphml/project/.venv/lib/python3.11/site-packages/torch_sparse/tensor.py:574: UserWarning: Sparse CSR tensor support is in beta state. If you miss a functionality in the sparse tensor support, please submit a feature request to https://github.com/pytorch/pytorch/issues. (Triggered internally at /Users/runner/work/pytorch/pytorch/pytorch/aten/src/ATen/SparseCsrTensorImpl.cpp:55.)\n",
      "  return torch.sparse_csr_tensor(rowptr, col, value, self.sizes())\n"
     ]
    }
   ],
   "source": [
    "import torch\n",
    "from normal_diffusion.models import GCNModel\n",
    "model = GCNModel()\n",
    "t = torch.ones(first_collection.x.shape[0])\n",
    "predicted_normals = model(graph_data=first_collection, t=t)\n",
    "print(predicted_normals)\n"
   ]
  },
  {
   "cell_type": "code",
   "execution_count": 3,
   "metadata": {},
   "outputs": [
    {
     "name": "stderr",
     "output_type": "stream",
     "text": [
      "/Users/nirg/courses/graphml/project/.venv/lib/python3.11/site-packages/tqdm/auto.py:21: TqdmWarning: IProgress not found. Please update jupyter and ipywidgets. See https://ipywidgets.readthedocs.io/en/stable/user_install.html\n",
      "  from .autonotebook import tqdm as notebook_tqdm\n",
      "/Users/nirg/courses/graphml/project/.venv/lib/python3.11/site-packages/diffusers/configuration_utils.py:140: FutureWarning: Accessing config attribute `num_train_timesteps` directly via 'DDPMScheduler' object attribute is deprecated. Please access 'num_train_timesteps' over 'DDPMScheduler's config object instead, e.g. 'scheduler.config.num_train_timesteps'.\n",
      "  deprecate(\"direct config name access\", \"1.0.0\", deprecation_message, standard_warn=False)\n"
     ]
    },
    {
     "name": "stdout",
     "output_type": "stream",
     "text": [
      "Epoch 10/100, Loss: -0.0836\n",
      "Epoch 20/100, Loss: -0.3197\n",
      "Epoch 30/100, Loss: -0.4619\n",
      "Epoch 40/100, Loss: -0.5497\n",
      "Epoch 50/100, Loss: -0.6265\n",
      "Epoch 60/100, Loss: -0.6949\n",
      "Epoch 70/100, Loss: -0.7501\n",
      "Epoch 80/100, Loss: -0.7824\n",
      "Epoch 90/100, Loss: -0.8083\n",
      "Epoch 100/100, Loss: -0.8301\n"
     ]
    }
   ],
   "source": [
    "from diffusers import DDPMScheduler\n",
    "from normal_diffusion.training.training import train_diffusion\n",
    "scheduler = DDPMScheduler(num_train_timesteps=5, beta_schedule=\"squaredcos_cap_v2\", clip_sample=False)\n",
    "train_diffusion(model=model, dataloader=dataset[:1], scheduler=scheduler, n_epochs=100, lr=1e-3)"
   ]
  },
  {
   "cell_type": "code",
   "execution_count": null,
   "metadata": {},
   "outputs": [],
   "source": []
  }
 ],
 "metadata": {
  "kernelspec": {
   "display_name": ".venv",
   "language": "python",
   "name": "python3"
  },
  "language_info": {
   "codemirror_mode": {
    "name": "ipython",
    "version": 3
   },
   "file_extension": ".py",
   "mimetype": "text/x-python",
   "name": "python",
   "nbconvert_exporter": "python",
   "pygments_lexer": "ipython3",
   "version": "3.11.10"
  }
 },
 "nbformat": 4,
 "nbformat_minor": 2
}
